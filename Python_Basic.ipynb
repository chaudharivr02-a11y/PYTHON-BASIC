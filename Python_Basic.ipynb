{
  "nbformat": 4,
  "nbformat_minor": 0,
  "metadata": {
    "colab": {
      "provenance": []
    },
    "kernelspec": {
      "name": "python3",
      "display_name": "Python 3"
    },
    "language_info": {
      "name": "python"
    }
  },
  "cells": [
    {
      "cell_type": "markdown",
      "source": [
        "# Python Basics Questions:\n",
        "\n",
        "\n",
        "\n"
      ],
      "metadata": {
        "id": "XsuVLNIJwaB0"
      }
    },
    {
      "cell_type": "markdown",
      "source": [
        "1. What is Python, and why is it popular?\n",
        "  - Python is a high-level, versatile programming language known for its clear syntax and readability. It was created by Guido van Rossum and first released in 1991. Whether you're building a simple calculator or developing AI models, Python scales beautifully across projects of all sizes.\n",
        "\n",
        "\n",
        "2. What is an interpreter in Python?\n",
        "  - In Python, an interpreter is a program that reads and executes your Python code. When you write a Python program in a file (e.g., hello.py), the interpreter is the application on your computer that takes that file and runs the instructions within it.\n",
        "     - Think of it like this:\n",
        "      - You = Python programmer\n",
        "      - Python code = Your written instructions\n",
        "      - Interpreter = The translator that reads each line and acts on it right away\n",
        "      - Computer = The listener that follows those instructions\n",
        "\n",
        "3. What are pre-defined keywords in Python?\n",
        "  - Pre-defined keywords, also known as reserved words or keywords, in Python are special words that have a fixed, specific meaning and purpose within the language. You cannot use them as identifiers (names for variables, functions, classes, etc.) because doing so would confuse the Python interpreter.\n",
        "    - What Are Some Examples?  \n",
        "      - True, False, None: These are used for boolean values and null values, respectively.  \n",
        "      - for, while: Used for creating loops.\n",
        "      - def, class: Used to define functions and classes.\n",
        "      - import, from: Used to import modules.\n",
        "4.  Can keywords be used as variable names?\n",
        "  - Keywords are predefined, reserved identifiers that have a specific function within the language's syntax. They are used to define the structure and logic of a program. For example, in Python, if, else, while, for, def, and class are all keywords. The compiler or interpreter needs to be able to distinguish between these special words and the names you create for variables, functions, and other identifiers. Using a keyword as a variable name would create an ambiguity that the program cannot resolve, leading to a syntax error.\n",
        "\n",
        "5. What is mutability in Python?\n",
        "  - In Python, mutability refers to whether an object's state can be changed after it's created. If an object is mutable, you can modify its contents or attributes without creating a new object. If it's immutable, you can't change it; any \"modification\" actually creates a new object with the desired changes.\n",
        "\n",
        "6. Why are lists mutable, but tuples are immutable?\n",
        "   - Mutability in Python refers to whether an object's state can be changed after it's created. Lists are mutable because they're designed for dynamic collections of items, where you might need to add, remove, or modify elements after creation. Tuples are immutable because they are intended to be fixed, unchangeable sequences, often used for data that shouldn't be altered.\n",
        "\n",
        "7. What is the difference between “==” and “is” operators in Python?\n",
        "  - The \"==\" and \"is\" operators in Python are used for comparison, but they check different things. The \"==\" operator compares the values of two objects, while the \"is\" operator compares their identity, or whether they refer to the exact same object in memory.\n",
        "      \n",
        "8.  What are logical operators in Python?\n",
        "   - Logical operators in Python are used to combine conditional statements and evaluate Boolean values (True or False). They're essential for creating more complex conditions in if statements, loops, and other control flow structures. The three main logical operators are and, or, and not.\n",
        "\n",
        "9. What is type casting in Python?\n",
        "  - Type casting, also known as type conversion, is the process of changing a variable's data type from one to another. This is often necessary when you need to perform operations that require a specific data type, such as using a number stored as a string in a mathematical calculation.\n",
        "\n",
        "  Common Type Casting Functions:\n",
        "\n",
        "  Python has built-in functions that make type casting simple\n",
        "    - int(): Converts a value into an integer. For example, int('10') would become the number 10, and int(5.7) would become 5 (it truncates the decimal).\n",
        "    - float(): Converts a value into a floating-point number (a number with a decimal). For example, float(10) would become 10.0, and float('5.7') would become 5.7.\n",
        "    - str(): Converts a value into a string. For example, str(123) would become the string '123', and str(True) would become 'True'.\n",
        "    - bool(): Converts a value into a boolean (True or False). Most values are considered True, while 0, 0.0, empty strings (''), empty lists ([]), and None are considered False.\n",
        "\n",
        "10.  What is the difference between implicit and explicit type casting?\n",
        " - Implicit Type Casting (Coercion):\n",
        "\n",
        "      Implicit type casting is done automatically by Python's interpreter. This happens behind the scenes and requires no action from the programmer. Python will perform this conversion when it is safe to do so, meaning there will be no loss of data.\n",
        "      \n",
        "11.  What is the purpose of conditional statements in Python?\n",
        "  - Conditional statements in Python allow you to execute certain blocks of code only when specific conditions are met. Their primary purpose is to control the flow of a program, enabling it to make decisions and respond to different inputs or states. This makes programs dynamic and versatile, as they don't have to follow a single, linear path.\n",
        "\n",
        "12.  How does the elif statement work?\n",
        "\n",
        "  - The elif statement in Python is a shorthand for \"else if.\" It's used after an if statement to check for an additional condition if the preceding if or elif conditions are all false. It allows you to create a chain of conditional checks.\n",
        "\n",
        "  How it Works:\n",
        "\n",
        "  The elif statement is part of a larger conditional block that starts with an if statement. The program evaluates each condition in the order they appear.\n",
        "   \n",
        "   I. The if condition is checked first. If it's true, its code block is executed, and the program skips the rest of the elif and else statements.\n",
        "   \n",
        "   II. If the if condition is false, the program moves to the first elif condition. If this elif condition is true, its code block runs, and the rest of the conditional block is skipped.\n",
        "\n",
        "   III. This process continues for any subsequent elif statements. As soon as a true condition is found, its code is executed, and the program exits the entire if/elif/else structure.\n",
        "\n",
        "   IV. If all if and elif conditions are false, the program will execute the else block if one is present.\n",
        "\n",
        "  In this case, the if condition grade >= 90 is false. The program then checks the first elif condition grade >= 80, which is true. It prints \"You got a B.\" and then skips the remaining elif and else statements.\n",
        "\n",
        "13.  What is the difference between for and while loops?\n",
        "\n",
        "  -  For and while loops are both used for repetition in Python, but they differ in how they control the repetition. The main difference lies in whether the number of iterations is known or unknown beforehand.\n",
        "  \n",
        "  for Loops:\n",
        "\n",
        "  A for loop is used to iterate over a sequence of elements, such as a list, tuple, string, or range. It's best when you know exactly how many times you want the loop to run, or when you want to perform an action for each item in a collection. The loop automatically handles the iteration and termination.\n",
        "\n",
        "  Key Characteristics of for Loops::\n",
        "\n",
        "    - Best for: Known number of iterations.\n",
        "\n",
        "    - Mechanism: Iterates over a sequence.\n",
        "\n",
        "   Key Characteristics of while Loops:\n",
        "\n",
        "     - Best for: Unknown number of iterations.\n",
        "\n",
        "     - Mechanism: Repeats as long as a condition is true.\n",
        "\n",
        "14.  Describe a scenario where a while loop is more suitable than a for loop?\n",
        "\n",
        "  - A while loop is more suitable than a for loop in scenarios where the number of iterations is not known in advance and the loop's continuation depends on a condition that changes during the loop's execution. A classic example is a program that continues to run until a specific event or user input occurs.\n",
        "\n",
        "\n",
        "\n",
        "  \n",
        "\n",
        "\n",
        "\n",
        "\n",
        "\n",
        "\n",
        "  \n",
        "\n",
        "        \n",
        "\n",
        "      \n",
        "\n",
        "\n",
        "\n",
        "        \n"
      ],
      "metadata": {
        "id": "oidbdTtkwwiv"
      }
    },
    {
      "cell_type": "markdown",
      "source": [
        "#  Practical Questions:\n"
      ],
      "metadata": {
        "id": "qcsC6blOCW8W"
      }
    },
    {
      "cell_type": "markdown",
      "source": [
        "1. Write a Python program to print \"Hello, World!\""
      ],
      "metadata": {
        "id": "CqvIJOXCqLaO"
      }
    },
    {
      "cell_type": "code",
      "source": [
        "print(\"Hello,World!\")"
      ],
      "metadata": {
        "colab": {
          "base_uri": "https://localhost:8080/"
        },
        "id": "rW4k5THbp-cN",
        "outputId": "109e1fcb-b249-4571-945e-e98ce299d3ed"
      },
      "execution_count": 12,
      "outputs": [
        {
          "output_type": "stream",
          "name": "stdout",
          "text": [
            "Hello,World!\n"
          ]
        }
      ]
    },
    {
      "cell_type": "markdown",
      "source": [
        "2. Write a Python program that displays your name and age."
      ],
      "metadata": {
        "id": "a-HWwurxqP5X"
      }
    },
    {
      "cell_type": "code",
      "source": [
        "name = \"vaishnavi\"\n",
        "age = 24\n",
        "print(f\"My name is {name}\")\n",
        "print(f\"I am {age} years old.\")"
      ],
      "metadata": {
        "colab": {
          "base_uri": "https://localhost:8080/"
        },
        "id": "H7e7_f2fuHsh",
        "outputId": "91a2d5ee-67c2-4636-ecd2-d953d4212296"
      },
      "execution_count": 14,
      "outputs": [
        {
          "output_type": "stream",
          "name": "stdout",
          "text": [
            "My name is vaishnavi\n",
            "I am 24 years old.\n"
          ]
        }
      ]
    },
    {
      "cell_type": "markdown",
      "source": [
        "3. Write code to print all the pre-defined keywords in Python using the keyword library."
      ],
      "metadata": {
        "id": "xXky7H3aual4"
      }
    },
    {
      "cell_type": "code",
      "source": [
        "import keyword\n",
        "print(keyword.kwlist)"
      ],
      "metadata": {
        "colab": {
          "base_uri": "https://localhost:8080/"
        },
        "id": "iMWf7b-vufob",
        "outputId": "99b20afa-25cc-475e-ca5b-04d3a93c1942"
      },
      "execution_count": 15,
      "outputs": [
        {
          "output_type": "stream",
          "name": "stdout",
          "text": [
            "['False', 'None', 'True', 'and', 'as', 'assert', 'async', 'await', 'break', 'class', 'continue', 'def', 'del', 'elif', 'else', 'except', 'finally', 'for', 'from', 'global', 'if', 'import', 'in', 'is', 'lambda', 'nonlocal', 'not', 'or', 'pass', 'raise', 'return', 'try', 'while', 'with', 'yield']\n"
          ]
        }
      ]
    },
    {
      "cell_type": "markdown",
      "source": [
        "4.  Write a program that checks if a given word is a Python keyword."
      ],
      "metadata": {
        "id": "6l3ujAB2uoEp"
      }
    },
    {
      "cell_type": "code",
      "source": [
        "import keyword\n",
        "\n",
        "word = input(\"Enter a word: \")\n",
        "if keyword.iskeyword(word):\n",
        "    print(f\"{word} is a Python keyword.\")\n",
        "else:\n",
        "    print(f\"{word} is NOT a Python keyword.\")"
      ],
      "metadata": {
        "colab": {
          "base_uri": "https://localhost:8080/"
        },
        "id": "bBP0Z2B1u3Ah",
        "outputId": "f2deb6a9-b4de-4e14-8da7-dc1263fd6ab2"
      },
      "execution_count": 21,
      "outputs": [
        {
          "output_type": "stream",
          "name": "stdout",
          "text": [
            "Enter a word: break\n",
            "break is a Python keyword.\n"
          ]
        }
      ]
    },
    {
      "cell_type": "markdown",
      "source": [
        "5. Create a list and tuple in Python, and demonstrate how attempting to change an element works differently\n",
        "for each."
      ],
      "metadata": {
        "id": "GBqfNgOCwecT"
      }
    },
    {
      "cell_type": "code",
      "source": [
        "# List\n",
        "my_list = [1, 2, 3]\n",
        "my_list[0] = 10\n",
        "print(\"Updated list:\", my_list)\n",
        "\n",
        "# Tuple\n",
        "my_tuple = (1, 2, 3)\n",
        "try:\n",
        "    my_tuple[0] = 10\n",
        "except TypeError:\n",
        "    print(\"Tuples are immutable, you cannot change elements.\")"
      ],
      "metadata": {
        "colab": {
          "base_uri": "https://localhost:8080/"
        },
        "id": "IUcvBYN5whTI",
        "outputId": "d5458fc1-c647-4554-8669-e86a9703e136"
      },
      "execution_count": 22,
      "outputs": [
        {
          "output_type": "stream",
          "name": "stdout",
          "text": [
            "Updated list: [10, 2, 3]\n",
            "Tuples are immutable, you cannot change elements.\n"
          ]
        }
      ]
    },
    {
      "cell_type": "markdown",
      "source": [
        "6.  Write a function to demonstrate the behavior of mutable and immutable arguments."
      ],
      "metadata": {
        "id": "alUrWWMqxHzn"
      }
    },
    {
      "cell_type": "code",
      "source": [
        "def modify_list(lst):\n",
        "    lst.append(100)  # Mutable change\n",
        "    print(\"Inside function (list):\", lst)\n",
        "\n",
        "def modify_number(num):\n",
        "    num += 10  # Immutable change\n",
        "    print(\"Inside function (number):\", num)\n",
        "\n",
        "# Test\n",
        "my_list = [1, 2, 3]\n",
        "modify_list(my_list)\n",
        "print(\"Outside function (list):\", my_list)\n",
        "\n",
        "number = 5\n",
        "modify_number(number)\n",
        "print(\"Outside function (number):\", number)"
      ],
      "metadata": {
        "colab": {
          "base_uri": "https://localhost:8080/"
        },
        "id": "6qbcjLRJxMGv",
        "outputId": "4e52c29b-eafd-47c7-b43c-aaa0a0b98766"
      },
      "execution_count": 23,
      "outputs": [
        {
          "output_type": "stream",
          "name": "stdout",
          "text": [
            "Inside function (list): [1, 2, 3, 100]\n",
            "Outside function (list): [1, 2, 3, 100]\n",
            "Inside function (number): 15\n",
            "Outside function (number): 5\n"
          ]
        }
      ]
    },
    {
      "cell_type": "markdown",
      "source": [
        "7. Write a program that performs basic arithmetic operations on two user-input numbers."
      ],
      "metadata": {
        "id": "OtzaFlrwxWs0"
      }
    },
    {
      "cell_type": "code",
      "source": [
        "a = float(input(\"Enter first number: \"))\n",
        "b = float(input(\"Enter second number: \"))\n",
        "\n",
        "print(\"Addition:\", a + b)\n",
        "print(\"Subtraction:\", a - b)\n",
        "print(\"Multiplication:\", a * b)\n",
        "print(\"Division:\", a / b)"
      ],
      "metadata": {
        "colab": {
          "base_uri": "https://localhost:8080/"
        },
        "id": "ZURK38VrxaEQ",
        "outputId": "eb96670a-ef00-4d12-95f6-65df8fa9d05d"
      },
      "execution_count": 25,
      "outputs": [
        {
          "output_type": "stream",
          "name": "stdout",
          "text": [
            "Enter first number: 21\n",
            "Enter second number: 12\n",
            "Addition: 33.0\n",
            "Subtraction: 9.0\n",
            "Multiplication: 252.0\n",
            "Division: 1.75\n"
          ]
        }
      ]
    },
    {
      "cell_type": "markdown",
      "source": [
        "8. Write a program to demonstrate the use of logical operators."
      ],
      "metadata": {
        "id": "w2d_YchkzaE1"
      }
    },
    {
      "cell_type": "code",
      "source": [
        "x = 20\n",
        "y = 15\n",
        "\n",
        "print(x > 0 and y > 0)  # AND\n",
        "print(x > 0 or y < 0)   # OR\n",
        "print(not(x > 0))       # NOT"
      ],
      "metadata": {
        "colab": {
          "base_uri": "https://localhost:8080/"
        },
        "id": "9cs7R1O_zf0I",
        "outputId": "04d83431-cddf-4f9c-b62a-f16bf13af279"
      },
      "execution_count": 26,
      "outputs": [
        {
          "output_type": "stream",
          "name": "stdout",
          "text": [
            "True\n",
            "True\n",
            "False\n"
          ]
        }
      ]
    },
    {
      "cell_type": "markdown",
      "source": [
        "9. Write a Python program to convert user input from string to integer, float, and boolean types."
      ],
      "metadata": {
        "id": "Gc3uXgh_z2wv"
      }
    },
    {
      "cell_type": "code",
      "source": [
        "data = input(\"Enter a value: \")\n",
        "\n",
        "# Convert to int, float, bool\n",
        "try:\n",
        "    print(\"Integer:\", int(data))\n",
        "    print(\"Float:\", float(data))\n",
        "except ValueError:\n",
        "    print(\"Invalid numeric conversion\")\n",
        "\n",
        "print(\"Boolean:\", bool(data))"
      ],
      "metadata": {
        "colab": {
          "base_uri": "https://localhost:8080/"
        },
        "id": "z2wPPPCA0Uaf",
        "outputId": "a474e176-338f-4a6b-87f9-8dd229047537"
      },
      "execution_count": 30,
      "outputs": [
        {
          "output_type": "stream",
          "name": "stdout",
          "text": [
            "Enter a value: 21\n",
            "Integer: 21\n",
            "Float: 21.0\n",
            "Boolean: True\n"
          ]
        }
      ]
    },
    {
      "cell_type": "markdown",
      "source": [
        "10. Write code to demonstrate type casting with list elements."
      ],
      "metadata": {
        "id": "mC87fxk20pa7"
      }
    },
    {
      "cell_type": "code",
      "source": [
        "numbers = [\"1\", \"2\", \"3\", \"4\", \"5\"]\n",
        "numbers_int = [int(num) for num in numbers]\n",
        "print(numbers_int)"
      ],
      "metadata": {
        "colab": {
          "base_uri": "https://localhost:8080/"
        },
        "id": "YXY9E-hf0uCt",
        "outputId": "9ef35f9c-40a2-4724-9da7-1b68e1cc52ce"
      },
      "execution_count": 31,
      "outputs": [
        {
          "output_type": "stream",
          "name": "stdout",
          "text": [
            "[1, 2, 3, 4, 5]\n"
          ]
        }
      ]
    },
    {
      "cell_type": "markdown",
      "source": [
        "11.  Write a program that checks if a number is positive, negative, or zero."
      ],
      "metadata": {
        "id": "emFeYiqN0-a7"
      }
    },
    {
      "cell_type": "code",
      "source": [
        "num = float(input(\"Enter a number: \"))\n",
        "if num > 0:\n",
        "    print(\"Positive\")\n",
        "elif num < 0:\n",
        "    print(\"Negative\")\n",
        "else:\n",
        "    print(\"Zero\")"
      ],
      "metadata": {
        "colab": {
          "base_uri": "https://localhost:8080/"
        },
        "id": "LlEsXOln2FSV",
        "outputId": "570b6f92-b5b4-49a6-ea20-585a9c6bab76"
      },
      "execution_count": 41,
      "outputs": [
        {
          "output_type": "stream",
          "name": "stdout",
          "text": [
            "Enter a number: 46\n",
            "Positive\n"
          ]
        }
      ]
    },
    {
      "cell_type": "markdown",
      "source": [
        "12. Write a for loop to print numbers from 1 to 10."
      ],
      "metadata": {
        "id": "Z32Maac12Ukk"
      }
    },
    {
      "cell_type": "code",
      "source": [
        "for i in range(1, 16):\n",
        "    print(i)"
      ],
      "metadata": {
        "colab": {
          "base_uri": "https://localhost:8080/"
        },
        "id": "Lc9D9Mnb2a8w",
        "outputId": "69a13a1a-ad6f-4bd5-d124-3f53723fed41"
      },
      "execution_count": 46,
      "outputs": [
        {
          "output_type": "stream",
          "name": "stdout",
          "text": [
            "1\n",
            "2\n",
            "3\n",
            "4\n",
            "5\n",
            "6\n",
            "7\n",
            "8\n",
            "9\n",
            "10\n",
            "11\n",
            "12\n",
            "13\n",
            "14\n",
            "15\n"
          ]
        }
      ]
    },
    {
      "cell_type": "markdown",
      "source": [
        "13.  Write a Python program to find the sum of all even numbers between 1 and 50."
      ],
      "metadata": {
        "id": "ApnDeDHh2sQ8"
      }
    },
    {
      "cell_type": "code",
      "source": [
        "total = 0\n",
        "for i in range(2, 21, 2):\n",
        "    total += i\n",
        "print(\"Sum of even numbers:\", total)"
      ],
      "metadata": {
        "colab": {
          "base_uri": "https://localhost:8080/"
        },
        "id": "mGukASRT2xhi",
        "outputId": "3427075e-9232-4099-a928-a2508d98b32c"
      },
      "execution_count": 47,
      "outputs": [
        {
          "output_type": "stream",
          "name": "stdout",
          "text": [
            "Sum of even numbers: 110\n"
          ]
        }
      ]
    },
    {
      "cell_type": "markdown",
      "source": [
        "14. Write a program to reverse a string using a while loop."
      ],
      "metadata": {
        "id": "dpLjO5mg3HWM"
      }
    },
    {
      "cell_type": "code",
      "source": [
        "text = input(\"Enter a string: \")\n",
        "reversed_text = \"\"\n",
        "i = len(text) - 1\n",
        "\n",
        "while i >= 0:\n",
        "    reversed_text += text[i]\n",
        "    i -= 1\n",
        "\n",
        "print(\"Reversed string:\", reversed_text)"
      ],
      "metadata": {
        "colab": {
          "base_uri": "https://localhost:8080/"
        },
        "id": "sutAxwob3K1L",
        "outputId": "bd1724ac-f0b8-499e-cda3-c8113ff977a9"
      },
      "execution_count": 50,
      "outputs": [
        {
          "output_type": "stream",
          "name": "stdout",
          "text": [
            "Enter a string: 48\n",
            "Reversed string: 84\n"
          ]
        }
      ]
    },
    {
      "cell_type": "markdown",
      "source": [
        "Write a Python program to calculate the factorial of a number provided by the user using a while loop."
      ],
      "metadata": {
        "id": "5sZBCuR-3ci_"
      }
    },
    {
      "cell_type": "code",
      "source": [
        "num = int(input(\"Enter a number: \"))\n",
        "factorial = 2\n",
        "i=1\n",
        "\n",
        "while i <= num:\n",
        "    factorial *= i\n",
        "    i += 2\n",
        "\n",
        "print(\"Factorial:\", factorial)"
      ],
      "metadata": {
        "colab": {
          "base_uri": "https://localhost:8080/"
        },
        "id": "wuh8d5LB3fqf",
        "outputId": "6f49e3e6-f7c7-4d41-a542-21a7bcafa662"
      },
      "execution_count": 54,
      "outputs": [
        {
          "output_type": "stream",
          "name": "stdout",
          "text": [
            "Enter a number: 17\n",
            "Factorial: 68918850\n"
          ]
        }
      ]
    }
  ]
}