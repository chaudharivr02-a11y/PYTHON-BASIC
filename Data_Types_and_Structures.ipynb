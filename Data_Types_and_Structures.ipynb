{
  "nbformat": 4,
  "nbformat_minor": 0,
  "metadata": {
    "colab": {
      "provenance": []
    },
    "kernelspec": {
      "name": "python3",
      "display_name": "Python 3"
    },
    "language_info": {
      "name": "python"
    }
  },
  "cells": [
    {
      "cell_type": "markdown",
      "source": [
        "#Data Types and Structures :"
      ],
      "metadata": {
        "id": "zcJVnCbhtpWO"
      }
    },
    {
      "cell_type": "markdown",
      "source": [
        "1.  What are data structures, and why are they important?\n",
        " - Data structures are a way of organizing and storing data in a computer so that it can be accessed and used efficiently. They define how data elements are arranged, the relationships between them, and the operations that can be performed on them.\n",
        "\n",
        "     Importance of Data Structures:\n",
        "     \n",
        "     Choosing the right data structure is crucial for writing efficient and scalable code. Here's why they're so important:\n",
        "\n",
        "     - Efficient Data Management: Data structures enable developers to manage large volumes of data. Without a well-thought-out structure, it would be difficult to store, retrieve, and process information quickly, leading to poor performance in applications.\n",
        "\n",
        "     - Performance Optimization: Different data structures are optimized for different tasks. For example, a hash table allows for very fast data lookups, while a linked list is efficient for inserting or deleting elements. By choosing the most suitable data structure for a problem, programmers can significantly reduce the time and memory required for their programs to run.\n",
        "\n",
        "     - Foundation for Algorithms: Data structures and algorithms are closely related. An algorithm is a step-by-step procedure for solving a problem, and it often relies on a specific data structure to work effectively. For instance, the Dijkstra's algorithm for finding the shortest path in a network uses a priority queue to efficiently select the next vertex to visit.\n",
        "\n",
        "     - Scalability: As applications grow and the amount of data they handle increases, the right data structures ensure that the program remains scalable. A poorly chosen data structure might work fine for a small amount of data but will become slow and unresponsive as the data set expands.\n",
        "\n",
        "2.  Explain the difference between mutable and immutable data types with examples.\n",
        "\n",
        " - Mutable data types can be modified in place after they've been created. This means you can change the content of the data structure without creating a new object. When you modify a mutable object, its unique identity (memory address) remains the same.\n",
        "\n",
        "     Example in Python:\n",
        "\n",
        "  I. Lists: You can change elements in a list.\n",
        "\n",
        "\n",
        "\n",
        "\n",
        "\n"
      ],
      "metadata": {
        "id": "y0AvTnuqtupi"
      }
    },
    {
      "cell_type": "code",
      "source": [
        "my_list = [1, 2, 3]\n",
        "my_list[0] = 10\n",
        "print(my_list)"
      ],
      "metadata": {
        "colab": {
          "base_uri": "https://localhost:8080/"
        },
        "id": "B1gdgur1vxOp",
        "outputId": "3dd687c1-6c19-460d-d0df-bc7d5be28ce6"
      },
      "execution_count": null,
      "outputs": [
        {
          "output_type": "stream",
          "name": "stdout",
          "text": [
            "[10, 2, 3]\n"
          ]
        }
      ]
    },
    {
      "cell_type": "markdown",
      "source": [
        "   II. Dictionaries: You can add, remove, or change key-value pairs."
      ],
      "metadata": {
        "id": "qnGXGsSLv_2C"
      }
    },
    {
      "cell_type": "code",
      "source": [
        "my_dict = {'a': 1, 'b': 2}\n",
        "my_dict['a'] = 10\n",
        "my_dict['c'] = 3\n",
        "print(my_dict)"
      ],
      "metadata": {
        "colab": {
          "base_uri": "https://localhost:8080/"
        },
        "id": "21b3Ef6jw0hz",
        "outputId": "cc3fb925-ebf6-4a7e-c5f2-07d383ccf113"
      },
      "execution_count": null,
      "outputs": [
        {
          "output_type": "stream",
          "name": "stdout",
          "text": [
            "{'a': 10, 'b': 2, 'c': 3}\n"
          ]
        }
      ]
    },
    {
      "cell_type": "markdown",
      "source": [
        "- Immutable Data Types:\n",
        "\n",
        "   Immutable data types cannot be changed after they're created. If you need to \"modify\" an immutable object, you are actually creating a new object with the desired changes and discarding the old one. The original object's identity remains unchanged.\n",
        "\n",
        "   Example in Python:\n",
        "\n",
        "   I. Strings: You cannot change a character within a string. Attempting to do so will raise an error."
      ],
      "metadata": {
        "id": "hRC55O8axBwM"
      }
    },
    {
      "cell_type": "code",
      "source": [
        "my_string = \"hello\"\n",
        "new_string = \"H\" + my_string[1:]\n",
        "print(new_string)"
      ],
      "metadata": {
        "colab": {
          "base_uri": "https://localhost:8080/"
        },
        "id": "DgODaFrExeEQ",
        "outputId": "3aad0862-dcfd-4d42-c471-4674db4a309a"
      },
      "execution_count": null,
      "outputs": [
        {
          "output_type": "stream",
          "name": "stdout",
          "text": [
            "Hello\n"
          ]
        }
      ]
    },
    {
      "cell_type": "markdown",
      "source": [
        "II. Tuples: You cannot change elements in a tuple. They are fixed-size collections."
      ],
      "metadata": {
        "id": "-KpFbSM1xqGV"
      }
    },
    {
      "cell_type": "code",
      "source": [
        "my_tuple = (1, 2, 3)\n",
        "new_tuple = (10,) + my_tuple[1:]\n",
        "print(new_tuple)"
      ],
      "metadata": {
        "colab": {
          "base_uri": "https://localhost:8080/"
        },
        "id": "j2DP_mhKxt8C",
        "outputId": "917c57f6-34f7-4a46-869f-64ac5dc1dbd4"
      },
      "execution_count": null,
      "outputs": [
        {
          "output_type": "stream",
          "name": "stdout",
          "text": [
            "(10, 2, 3)\n"
          ]
        }
      ]
    },
    {
      "cell_type": "markdown",
      "source": [
        "3. What are the main differences between lists and tuples in Python?\n",
        "\n",
        " - Lists and tuples are both used to store collections of items in Python, but their main difference lies in their mutability. Lists are mutable, meaning their elements can be changed, added, or removed after creation, while tuples are immutable, meaning they cannot be modified once they're created.\n",
        "\n",
        "    - Mutability and Immutability:\n",
        "\n",
        "     I . Lists (Mutable)\n",
        "\n",
        "      Lists are defined using square brackets []. Because they are mutable, you can perform various operations to change their contents. For example, you can add new items with append(), remove items with pop(), or change the value of an item at a specific index."
      ],
      "metadata": {
        "id": "-KswOBt-wYI6"
      }
    },
    {
      "cell_type": "code",
      "source": [
        "my_list = [1, 2, 3]\n",
        "my_list[0] = 10\n",
        "print(my_list)\n",
        "\n",
        "my_list.append(4)\n",
        "print(my_list)"
      ],
      "metadata": {
        "colab": {
          "base_uri": "https://localhost:8080/"
        },
        "id": "t-5jg2p6yxzM",
        "outputId": "ce58d5d5-12a9-41f1-caa8-f8aae173f960"
      },
      "execution_count": null,
      "outputs": [
        {
          "output_type": "stream",
          "name": "stdout",
          "text": [
            "[10, 2, 3]\n",
            "[10, 2, 3, 4]\n"
          ]
        }
      ]
    },
    {
      "cell_type": "markdown",
      "source": [
        "  II. Tuples (Immutable) Tuples are defined using parentheses (). Once a tuple is created, its contents cannot be altered. Trying to change an item, add a new one, or remove an existing one will result in a TypeError."
      ],
      "metadata": {
        "id": "TERrDYSzzh1D"
      }
    },
    {
      "cell_type": "code",
      "source": [
        "my_tuple = (1, 2, 3)"
      ],
      "metadata": {
        "id": "G4wOuBevz3NY"
      },
      "execution_count": null,
      "outputs": []
    },
    {
      "cell_type": "markdown",
      "source": [
        "The immutability of tuples makes them useful for data that shouldn't be changed, like coordinates, database records, or returning multiple values from a function.\n",
        "\n",
        "  Performance and Use Cases:\n",
        "\n",
        "  Due to their immutability, tuples are generally faster and more memory-efficient than lists. Python can optimize how it stores and processes immutable data.\n",
        "\n",
        "  Use Cases for Lists:\n",
        "\n",
        "  When you need a collection of items that you'll need to change later, like a queue of tasks, a list of user inputs, or a shopping cart.\n",
        "\n",
        "  Use Cases for Tuples:\n",
        "\n",
        "  - When you have a fixed collection of items that shouldn't be changed, such as RGB color codes (255, 0, 0), geographical coordinates (latitude, longitude), or a month/day/year date (12, 25, 2025).\n",
        "\n",
        "  - When you need a dictionary key. Since dictionary keys must be immutable, a tuple can be used as a key, while a list cannot.\n",
        "\n",
        "  - When returning multiple values from a function, Python automatically packages them into a tuple."
      ],
      "metadata": {
        "id": "VuV_GbrE0FfH"
      }
    },
    {
      "cell_type": "markdown",
      "source": [
        "4.  Describe how dictionaries store data.\n",
        "\n",
        " - Under the hood, most dictionary implementations (like Python's dict or Java's HashMap) are based on a hash table. A hash table is a data structure that uses a hash function to compute an index, or a \"hash,\" for each key. This hash then determines where the key-value pair is stored in an array.\n",
        "\n",
        "     How it Works:\n",
        "\n",
        "     I. Hashing: When you add a new key-value pair, the dictionary's hash function takes the key as input and generates a unique integer, the hash code. This hash code is then used to calculate an index within an internal array.\n",
        "\n",
        "     II. Storage: The key-value pair is stored at the calculated index in the array. Since the hash code is deterministic, the same key will always produce the same hash code and, therefore, the same index.\n",
        "\n",
        "     III. Collision Handling: It's possible for different keys to produce the same hash code, a situation known as a hash collision. Dictionaries handle collisions using various methods, such as chaining (where a linked list of key-value pairs is created at the colliding index) or open addressing (where the dictionary probes for the next available slot in the array).\n",
        "\n",
        "\n",
        "5. Why might you use a set instead of a list in Python?\n",
        "\n",
        " - I. Unique Elements:\n",
        "\n",
        "     The most fundamental difference is that sets can only contain unique elements. If you try to add a duplicate item to a set, it will simply be ignored. This makes sets the ideal data structure for quickly removing duplicates from a collection or checking for the presence of unique items.\n",
        "\n",
        "     II. Faster Operations:\n",
        "\n",
        "     Sets are implemented using a hash table, similar to dictionaries. This allows for extremely fast lookups, additions, and removals. On average, these operations have a time complexity of O(1), which means the time taken is constant and doesn't depend on the number of elements in the set.\n",
        "\n",
        "     In contrast, a list is an ordered sequence. To check if an element is in a list, Python has to iterate through each item, which can be slow, especially for large lists. This has a time complexity of O(n).\n",
        "\n",
        "     III. Mathematical Operations:\n",
        "\n",
        "     Sets are a great choice when you need to perform mathematical set operations. Python sets have built-in methods for union, intersection, difference, and symmetric difference, which are highly optimized.\n",
        "\n",
        "     - When to Use a List:\n",
        "\n",
        "      You should use a list when:\n",
        "      \n",
        "      a. The order of elements is important.\n",
        "\n",
        "      b. You need to store duplicate elements.\n",
        "\n",
        "      c. You need to access elements by their integer index.\n",
        "\n",
        "      d. You plan to frequently modify the size of the collection.\n",
        "\n",
        "6. What is a string in Python, and how is it different from a list?\n",
        "\n",
        " - A string in Python is an immutable sequence of characters, while a list is a mutable sequence of various data types. This difference in mutability and the types of data they can hold is key.\n",
        "\n",
        "     String:\n",
        "     A string is a sequence of characters, such as letters, numbers, and symbols, enclosed in single, double, or triple quotes. Strings are immutable, which means once you create a string, you cannot change its individual characters. Any operation that seems to \"modify\" a string actually creates a new string with the desired changes.\n",
        "\n",
        "     For example, if you have the string hello, you can't change the h to a j. Instead, you'd create a new string jello.\n",
        "\n",
        "     List:\n",
        "\n",
        "     A list is an ordered sequence of elements, which can be of any data type. Lists are mutable, meaning you can add, remove, and change elements after the list has been created.\n",
        "\n",
        "     For example, if you have a list [1, 2, 3], you can change the second element to 5, resulting in the list [1, 5, 3].\n",
        "     \n",
        "7. How do tuples ensure data integrity in Python?\n",
        "\n",
        " - Tuples ensure data integrity in Python because they are immutable sequences. This means that once a tuple is created, its contents cannot be changed, added to, or removed.\n",
        "\n",
        "     - Immutability and Data Integrity:\n",
        "\n",
        "        The immutability of tuples is what guarantees data integrity. When you have a tuple, you can be certain that its elements will remain exactly as they were when you created it. This makes tuples ideal for storing data that shouldn't be altered, such as configuration settings, database records, or a list of constants.\n",
        "\n",
        "        Consider a list, which is mutable. If you pass a list to a function, that function could potentially modify the list's contents, leading to unexpected changes and bugs. With a tuple, this isn't a concern. Since the data is unchangeable, it's safe to pass it around your program, knowing that its integrity will be preserved.\n",
        "\n",
        "     - Performance and Security:\n",
        "\n",
        "        Because tuples are immutable, Python can optimize their storage and access, making them slightly more memory-efficient and faster than lists for many operations. This immutability also provides a level of security, as it prevents accidental or malicious modification of data.\n",
        "\n",
        "8. What is a hash table, and how does it relate to dictionaries in Python?\n",
        "\n",
        " - A hash table, also known as a hash map, is a data structure that stores key-value pairs. It uses a hash function to compute an index, or hash code, into an array of buckets or slots, from which the desired value can be found. This allows for very fast average-case lookups, insertions, and deletions, often with a time complexity of O(1).\n",
        "\n",
        "      How it Works:\n",
        "\n",
        "      The fundamental idea is to map a key to a specific location in an array. Here's a simplified breakdown of the process:\n",
        "\n",
        "      I. Hash Function: When you want to store a key-value pair, the hash function takes the key and converts it into a unique, fixed-size integer value, which is the hash code. A good hash function will distribute these codes uniformly across the available slots in the array.\n",
        "\n",
        "      II. Indexing: This hash code is then used to determine the index in the array where the key-value pair will be stored.\n",
        "\n",
        "      III. Collision Handling: It's possible for two different keys to produce the same hash code. This is called a collision. Hash tables employ various strategies to handle collisions, such as chaining (storing multiple key-value pairs in a linked list at the same index) or open addressing (probing for the next available empty slot).\n",
        "\n",
        "      Relation to Python Dictionaries:\n",
        "\n",
        "      Python's dictionary data type (dict) is a highly optimized implementation of a hash table. While you interact with a dictionary using simple syntax like my_dict['key'] = 'value', the underlying mechanism is a hash table.\n",
        "\n",
        "      - Keys and Values: In a Python dictionary, the keys are the \"keys\" of the hash table, and the values are the \"values.\"\n",
        "\n",
        "      - Hashing: When you add a new key-value pair to a dictionary, Python's built-in hash() function is used to compute the hash value for the key. This value is then used to determine where to store the key and its associated value in the dictionary's internal array.\n",
        "\n",
        "      - Performance: The O(1) average-case time complexity of hash tables explains why dictionary operations like lookups, insertions, and deletions are so incredibly fast in Python.\n",
        "\n",
        "      - Mutability: The immutability of a dictionary's keys is a crucial requirement for the underlying hash table. If a key were mutable (like a list), its hash value could change, making it impossible to reliably locate the key-value pair in the hash table's structure. That's why you can use strings and tuples as dictionary keys, but not lists or other mutable objects.\n",
        "9. Can lists contain different data types in Python?\n",
        "\n",
        " - Yes, lists can contain different data types in Python. This is a key feature of Python's dynamic typing, which allows you to store a mix of integers, strings, floats, and other objects within the same list.\n",
        "\n",
        "     Example:\n",
        "\n",
        "         my_list = [10, \"hello\", 3.14, True, [1, 2, 3], {\"a\": 1, \"b\": 2}]\n",
        "\n",
        "       In this single list, you can see:\n",
        "\n",
        "       - An integer (10)\n",
        "\n",
        "       - A string (\"hello\")\n",
        "\n",
        "       - A float (3.14)\n",
        "\n",
        "      - A boolean (True)\n",
        "\n",
        "      - Another list ([1, 2, 3])\n",
        "\n",
        "      - A dictionary ({\"a\": 1, \"b\": 2})\n",
        "\n",
        "     This flexibility makes lists a versatile data structure for a wide range of programming tasks.\n",
        "\n",
        "10.  Explain why strings are immutable in Python.\n",
        "\n",
        " - In Python, strings are immutable, meaning once a string is created, its contents cannot be changed. Any operation that appears to modify a string, like concatenation or replacement, actually creates a new string object in a different memory location.\n",
        "\n",
        "      Key Reasons for Immutability:\n",
        "\n",
        "      I. Memory Efficiency: Because strings are immutable, Python can optimize memory usage by allowing multiple variables to reference the same string object in memory. If you have two variables, a = \"hello\" and b = \"hello\", they can both point to the exact same string object in memory. This is called string interning. If strings were mutable, this optimization wouldn't be possible because changing a would unintentionally change b.\n",
        "\n",
        "      II. Thread Safety: In a multi-threaded program, mutable objects can be a source of problems. If one thread is reading a string while another is modifying it, it could lead to unexpected behavior or errors. Since strings are immutable, they are inherently thread-safe because they can't be changed after creation. This eliminates the need for locking mechanisms to protect strings from simultaneous access.\n",
        "\n",
        "      III. Hashing and Dictionary Keys: As mentioned previously, strings are often used as keys in dictionaries and elements in sets. For a type to be usable as a key in a hash-based data structure, it must be hashable. An object's hash value must remain constant throughout its lifetime. If a string were mutable, its hash value could change, breaking the integrity of the hash table and making it impossible to reliably retrieve the value associated with that key. Immutability guarantees that the hash value of a string will never change, ensuring that dictionaries and sets function correctly.\n",
        "\n",
        "11.  What advantages do dictionaries offer over lists for certain tasks?\n",
        "\n",
        " - Dictionaries offer significant advantages over lists for certain tasks, primarily due to their key-based access and faster lookups.\n",
        "\n",
        "  1. Fast Lookups and Retrieval:\n",
        "\n",
        "      The main advantage of dictionaries is their performance for retrieving data. With a dictionary, you can access a value directly using its key, which provides an average-case time complexity of O(1). This is because dictionaries are implemented as hash tables, which use a hash function to instantly locate the data.\n",
        "\n",
        "      In contrast, finding a specific item in a list requires iterating through the list, which has a time complexity of O(n) in the worst-case. For a very long list, this can be significantly slower.\n",
        "\n",
        "        - When to use a dictionary: When you need to quickly look up a value based on a unique identifier, like finding a person's phone number using their name.\n",
        "\n",
        "        - When to use a list: When the order of elements matters or when you need to iterate through all items.\n",
        "\n",
        " 2. Semantic Clarity and Readability:\n",
        "\n",
        "       Dictionaries are excellent for storing related data in a way that is easy to understand. Instead of relying on an item's numerical index, you use a descriptive key that explains what the value represents.\n",
        "\n",
        "       For example, user_data = ['John Doe', 30, 'New York'] is less clear than user_data = {'name': 'John Doe', 'age': 30, 'city': 'New York'}. The dictionary clearly labels each piece of information, making the code more readable and easier to maintain.\n",
        "\n",
        " 3. Ease of Insertion and Deletion:\n",
        "\n",
        "       Adding or removing a key-value pair in a dictionary is generally faster than in a list. Inserting or deleting an element in the middle of a list requires shifting all subsequent elements, which can be inefficient for large lists.\n",
        "\n",
        "12.  Describe a scenario where using a tuple would be preferable over a list.\n",
        "\n",
        " - Using a tuple would be preferable over a list in a scenario where you have a collection of items that should not change after they're created, such as storing a set of fixed coordinates, database records, or configuration settings.\n",
        "\n",
        "      Scenario: Storing Geographic Coordinates:\n",
        "\n",
        "      Imagine you're developing an application that stores the geographic coordinates of landmarks, like a city's main square, a specific point on a map, or a GPS location. These coordinates (latitude and longitude) are fixed values that should not be accidentally altered by your program.\n",
        "\n",
        "      - Using a tuple: You would represent these coordinates as a tuple, for example: london_coords = (51.5074, -0.1278). Since tuples are immutable, you can be confident that the values 51.5074 and -0.1278 will always remain the same. Trying to modify the tuple, like london_coords[0] = 51.5, would result in a TypeError, preventing an unintended change.\n",
        "\n",
        "      - Using a list: If you used a list, london_coords = [51.5074, -0.1278], a developer could accidentally change a value later in the code, leading to bugs that are difficult to track down. For example, london_coords[0] = 51.5 would execute without an error, but the coordinate would now be incorrect.\n",
        "\n",
        "13. How do sets handle duplicate values in Python?\n",
        "\n",
        " - Sets in Python handle duplicate values by automatically removing them and only storing unique elements. When you create a set or add items to it, any duplicates are discarded, leaving you with a collection of distinct values.\n",
        "\n",
        "     How Sets Work:\n",
        "\n",
        "     A set is an unordered collection of unique elements. It's built on a hash table, similar to a dictionary but without key-value pairs. Each element in a set is a hashable object, and the set ensures that no two elements have the same hash value. This is how it efficiently checks for and eliminates duplicates.\n",
        "\n",
        "     Here's how this works in practice:\n",
        "\n",
        "      - Initialization: When you create a set from a list or another iterable that contains duplicates, the set constructor processes each item and only keeps one instance of each unique value.\n",
        "      \n",
        "\n",
        "\n",
        "\n",
        "\n",
        "\n",
        "\n",
        "\n",
        "\n",
        "\n",
        "\n",
        "\n",
        "\n"
      ],
      "metadata": {
        "id": "XYaejEsDGdNo"
      }
    },
    {
      "cell_type": "code",
      "source": [
        "# A list with duplicate values\n",
        "my_list = [1, 2, 3, 2, 4, 1, 5]\n",
        "\n",
        "# Convert the list to a set\n",
        "my_set = set(my_list)\n",
        "\n",
        "print(my_set)"
      ],
      "metadata": {
        "colab": {
          "base_uri": "https://localhost:8080/"
        },
        "id": "pKnO8KEoZ8eb",
        "outputId": "34c1adde-3a14-479a-ed64-5bea5d3148ce"
      },
      "execution_count": null,
      "outputs": [
        {
          "output_type": "stream",
          "name": "stdout",
          "text": [
            "{1, 2, 3, 4, 5}\n"
          ]
        }
      ]
    },
    {
      "cell_type": "markdown",
      "source": [
        "  - Adding Elements: If you try to add an element that already exists in the set, the set simply ignores the addition. It doesn't raise an error or change the set's contents.\n",
        "\n"
      ],
      "metadata": {
        "id": "VwVqeSwpaI6q"
      }
    },
    {
      "cell_type": "code",
      "source": [
        "my_set = {1, 2, 3}\n",
        "\n",
        "# Try to add an existing element\n",
        "my_set.add(2)\n",
        "\n",
        "print(my_set)"
      ],
      "metadata": {
        "colab": {
          "base_uri": "https://localhost:8080/"
        },
        "id": "n5g0Hsksa6ud",
        "outputId": "8a030f30-be5c-4253-d80c-fd52db71c507"
      },
      "execution_count": null,
      "outputs": [
        {
          "output_type": "stream",
          "name": "stdout",
          "text": [
            "{1, 2, 3}\n"
          ]
        }
      ]
    },
    {
      "cell_type": "markdown",
      "source": [
        "  Practical Use Case:\n",
        "\n",
        "  This unique-element feature makes sets ideal for tasks like:\n",
        "\n",
        "   - Removing duplicates from a list: The fastest way to get a list of unique items is often to convert it to a set and then back to a list.\n",
        "\n",
        "   - Checking for the existence of an item: Because they are based on hash tables, checking if an item is in a set ('item' in my_set) is very fast, with an average time complexity of O(1).\n",
        "\n",
        "   - Mathematical set operations: You can perform operations like finding the union, intersection, and difference between two or more sets.\n",
        "   \n",
        "14. How does the “in” keyword work differently for lists and dictionaries?\n",
        "\n",
        " - The in keyword works differently for lists and dictionaries because it checks for the presence of an element in a list but the presence of a key in a dictionary. The underlying implementation of these data structures leads to a significant difference in performance.\n",
        "\n",
        "     How it Works with Lists:\n",
        "\n",
        "     When you use item in my_list, Python performs a linear search. It starts from the first element of the list and checks each one sequentially until\n",
        "     it finds a match or reaches the end of the list.\n",
        "\n",
        "      - What it checks for: The presence of a value.\n",
        "\n",
        "      - Performance: The time complexity is O(n), where 'n' is the number of elements in the list. This means the time it takes to find an item increases linearly with the size of the list.\n",
        "\n",
        "     How it Works with Dictionaries:\n",
        "\n",
        "     When you use key in my_dict, Python leverages the dictionary's hash table implementation. It doesn't iterate through the data. Instead, it takes the key, computes its hash value, and uses that hash to directly access a specific memory location where the key-value pair is stored.\n",
        "\n",
        "     - What it checks for: The presence of a key.\n",
        "\n",
        "     - Performance: The time complexity is O(1) on average. This makes checking for a key in a dictionary extremely fast, regardless of how many items the dictionary contains.\n",
        "\n",
        "15.  Can you modify the elements of a tuple? Explain why or why not.\n",
        "\n",
        " - No, you can't modify the elements of a tuple. Tuples are immutable in Python, which means their contents cannot be changed after they are created.\n",
        "\n",
        "       Why Tuples Are Immutable:\n",
        "\n",
        "       The immutability of tuples is a core design choice in Python, and it offers several benefits:\n",
        "\n",
        "       I. Data Integrity: Immutability ensures that the data within a tuple remains constant. This is crucial for representing fixed collections, such as database records, coordinates, or RGB color values. By preventing accidental modification, tuples help to maintain the integrity of your data.\n",
        "\n",
        "       II. Thread Safety: In multi-threaded programs, immutable objects are inherently thread-safe because they can't be modified by different threads simultaneously. This eliminates the need for complex locking mechanisms and prevents race conditions.\n",
        "\n",
        "       III. Use as Dictionary Keys: Since a tuple's contents and, therefore, its hash value never change, they can be used as keys in dictionaries. Lists, on the other hand, are mutable and thus unhashable, so they cannot be used as dictionary keys.\n",
        "\n",
        "       If you need a collection of items that you intend to modify, a list is the appropriate choice. If you attempt to change an element in a tuple, Python will raise a TypeError.\n",
        "\n",
        "     \n",
        "\n",
        "\n",
        "\n",
        "\n",
        "\n"
      ],
      "metadata": {
        "id": "rEy52fvYbGSY"
      }
    },
    {
      "cell_type": "code",
      "source": [
        "my_tuple = (1, 2, 3)\n",
        "\n",
        "# This will raise a TypeError\n",
        "try:\n",
        "    my_tuple[0] = 10\n",
        "except TypeError as e:\n",
        "    print(e)"
      ],
      "metadata": {
        "colab": {
          "base_uri": "https://localhost:8080/"
        },
        "id": "iV7ESMNmfiSI",
        "outputId": "16997a58-d578-47a0-8aa0-eab6f19239e1"
      },
      "execution_count": null,
      "outputs": [
        {
          "output_type": "stream",
          "name": "stdout",
          "text": [
            "'tuple' object does not support item assignment\n"
          ]
        }
      ]
    },
    {
      "cell_type": "markdown",
      "source": [
        "16. What is a nested dictionary, and give an example of its use case?\n",
        "\n",
        " - A nested dictionary is a dictionary where the values are themselves dictionaries. This structure allows you to represent complex, hierarchical data, similar to how you'd organize data in a JSON file.\n",
        "\n",
        "     Example Use Case: Student Records:\n",
        "\n",
        "     A common use case for a nested dictionary is storing information for multiple entities, such as student records in a school database. Each key in the outer dictionary can represent a unique student ID, and the corresponding value is another dictionary containing that student's details.\n",
        "\n",
        "     \n",
        "\n",
        "\n",
        "\n"
      ],
      "metadata": {
        "id": "CNyn3mCofrFx"
      }
    },
    {
      "cell_type": "code",
      "source": [
        "student_records = {\n",
        "    \"S1001\": {\n",
        "        \"name\": \"Alice Johnson\",\n",
        "        \"age\": 16,\n",
        "        \"grade\": \"11th\",\n",
        "        \"courses\": [\"Physics\", \"Chemistry\", \"Math\"],\n",
        "        \"contact\": {\n",
        "            \"email\": \"alice.j@school.edu\",\n",
        "            \"phone\": \"555-1234\"\n",
        "        }\n",
        "    },\n",
        "    \"S1002\": {\n",
        "        \"name\": \"Bob Smith\",\n",
        "        \"age\": 17,\n",
        "        \"grade\": \"12th\",\n",
        "        \"courses\": [\"History\", \"English\"],\n",
        "        \"contact\": {\n",
        "            \"email\": \"bob.s@school.edu\",\n",
        "            \"phone\": \"555-5678\"\n",
        "        }\n",
        "    }\n",
        "}"
      ],
      "metadata": {
        "id": "P_C7sMoIgeDP"
      },
      "execution_count": null,
      "outputs": []
    },
    {
      "cell_type": "markdown",
      "source": [
        "  In this example, to access Bob's email, you would use student_records[\"S1002\"][\"contact\"][\"email\"]. This nesting provides a clear, logical way to organize and access different levels of related data.\n",
        "\n",
        "17. Describe the time complexity of accessing elements in a dictionary.\n",
        "\n",
        " - Accessing elements in a dictionary, also known as a hash map or hash table, has an average-case time complexity of O(1), or constant time.\n",
        "\n",
        "      How it Works:\n",
        "\n",
        "      The constant time complexity is due to the way dictionaries are structured. A dictionary stores key-value pairs in an array-like structure. When you add a key-value pair, the dictionary uses a hash function to convert the key into a numerical hash code. This hash code is then used to calculate an index or memory address in the underlying array where the value will be stored.\n",
        "\n",
        "      When you want to access an element using its key, the same hash function is applied to the key, producing the same index. The dictionary can then jump directly to that memory location and retrieve the value. This direct access, without having to iterate through the entire structure, is what makes the operation constant time.\n",
        "\n",
        "      Worst-Case Scenario:\n",
        "\n",
        "      The worst-case time complexity for accessing a dictionary element is O(n), or linear time. This happens in the rare event of a hash collision, where two different keys produce the same hash code. When this occurs, the dictionary has to handle the collision, typically by storing the conflicting elements in a linked list or similar structure at that specific index. In this scenario, accessing an element requires traversing this list, which can take time proportional to the number of elements in the list.\n",
        "\n",
        "18. In what situations are lists preferred over dictionaries?\n",
        "\n",
        " - Lists are preferred over dictionaries when you need an ordered collection of items, and the primary way you'll access those items is by their position or index.\n",
        "\n",
        "      Key Use Cases:\n",
        "\n",
        "        - Ordered Data: If the sequence of items is important, a list is the natural choice. For example, storing the steps in a recipe or a series of transactions in the order they occurred.\n",
        "\n",
        "        - Simple Collections: When you just need a straightforward container for items and don't require complex key-based lookups, lists are simpler and more memory-efficient.\n",
        "\n",
        "        - Accessing by Index: Lists are optimized for accessing, adding, or removing elements at a specific position. For instance, if you want the third item in a collection, you can directly access it using its index (my_list[2]), a much more intuitive operation than with a dictionary.\n",
        "\n",
        "        - Duplicate Items: Lists allow duplicate values. If your data naturally contains duplicates, like a list of test scores, a dictionary would be an inefficient and potentially problematic choice as keys must be unique.\n",
        "\n",
        "19.  Why are dictionaries considered unordered, and how does that affect data retrieval?\n",
        "\n",
        " - Dictionaries are considered unordered because they don't maintain the insertion order of their key-value pairs. This is a direct result of their underlying data structure, a hash table, which stores elements based on their key's hash value, not their position in the sequence.\n",
        "\n",
        "      Why Order Doesn't Matter:\n",
        "\n",
        "      A dictionary's primary purpose is fast data retrieval using a key, not sequential access. When you add an item to a dictionary, a hash function is used to determine where in the hash table to store it. This process is designed for speed and efficiency, not for preserving the order in which items were added. As a result, the order of items can appear random or change as you add or remove elements.\n",
        "\n",
        "      The Impact on Data Retrieval:\n",
        "\n",
        "      Because a dictionary doesn't have an inherent order, you cannot rely on indexing to retrieve data. For example, you can't ask for \"the third item\" in a dictionary like you would with a list. Instead, you must access elements by their unique key.\n",
        "\n",
        "      This design choice is the reason for a dictionary's strength: its O(1) (constant time) average-case complexity for lookups. Since the hash function provides a direct path to the data, the dictionary doesn't need to traverse the entire collection, which is a much slower O(n) operation.\n",
        "\n",
        "      For most programming tasks, this lack of order is a non-issue because the goal is to quickly retrieve a value associated with a specific key. If you need a collection that maintains its insertion order, you should use an ordered dictionary or a list, depending on your specific needs.\n",
        "\n",
        "20.  Explain the difference between a list and a dictionary in terms of data retrieval.\n",
        "\n",
        " - In terms of data retrieval, the primary difference between a list and a dictionary is the method used to access elements. A list retrieves data by its positional index, while a dictionary retrieves data by its unique key.\n",
        "\n",
        "      List Retrieval:\n",
        "\n",
        "      A list is an ordered collection of items. To get an item from a list, you must know its index (its position starting from 0). This method of retrieval is fast and efficient, with an average time complexity of O(1). However, if you want to find an item by its value, you must search through the entire list, which is an O(n) operation.\n",
        "\n",
        "      Example:\n",
        "\n",
        "       - To get the second item from my_list = ['apple', 'banana', 'cherry'], you use its index: my_list[1].\n",
        "       \n",
        "       - To find if 'banana' is in my_list, you have to iterate through the list: 'banana' in my_list.\n",
        "\n",
        "       Dictionary Retrieval:\n",
        "\n",
        "       A dictionary is an unordered collection of key-value pairs. To get a value from a dictionary, you must know its associated key. The dictionary uses a special function (a hash function) to directly locate the value based on the key, making this process extremely fast, with an average time complexity of O(1). You cannot retrieve a value by its position because dictionaries do not maintain a fixed order.\n",
        "\n",
        "       Example:\n",
        "\n",
        "        - To get the value associated with the key 'fruit' from my_dict = {'fruit': 'apple', 'vegetable': 'carrot'}, you use the key: my_dict['fruit'].\n",
        "\n",
        "        - You cannot get a value by its position, as there is no concept of a \"first\" or \"second\" item.\n",
        "\n",
        "        In summary, a list is like a numbered checklist where you find an item by its number, and a dictionary is like a phone book where you find a phone number by a person's name. The choice between them depends entirely on how you need to retrieve your data.\n",
        "\n",
        "\n",
        "\n",
        "\n",
        "\n",
        "\n",
        "\n",
        "\n",
        "\n",
        "\n",
        "\n",
        "\n",
        "\n",
        "\n",
        "\n",
        "\n"
      ],
      "metadata": {
        "id": "G8X9fFZZggda"
      }
    },
    {
      "cell_type": "markdown",
      "source": [
        "# Practical Questions:"
      ],
      "metadata": {
        "id": "Pd7G10C3TvYU"
      }
    },
    {
      "cell_type": "markdown",
      "source": [
        "1. Write a code to create a string with your name and print it."
      ],
      "metadata": {
        "id": "TXRYiDd0T1Bp"
      }
    },
    {
      "cell_type": "code",
      "source": [
        "my_name = \"Vaishnavi\"\n",
        "print(my_name)"
      ],
      "metadata": {
        "colab": {
          "base_uri": "https://localhost:8080/"
        },
        "id": "itoVVQIUUoiK",
        "outputId": "ff282cc0-3e5c-42d7-beb0-62fc2dfa230a"
      },
      "execution_count": null,
      "outputs": [
        {
          "output_type": "stream",
          "name": "stdout",
          "text": [
            "Vaishnavi\n"
          ]
        }
      ]
    },
    {
      "cell_type": "markdown",
      "source": [
        "2. Write a code to find the length of the string \"Hello World\"."
      ],
      "metadata": {
        "id": "dEnFVDSdVIPr"
      }
    },
    {
      "cell_type": "code",
      "source": [
        "my_string = \"Hello World\"\n",
        "string_length = len(my_string)\n",
        "print(f\"The length is: {len('Hello World')}\")"
      ],
      "metadata": {
        "colab": {
          "base_uri": "https://localhost:8080/"
        },
        "id": "yzLBCt5CVRr4",
        "outputId": "3228bd50-6246-4187-a4a6-d6965baab1ad"
      },
      "execution_count": null,
      "outputs": [
        {
          "output_type": "stream",
          "name": "stdout",
          "text": [
            "The length is: 11\n"
          ]
        }
      ]
    },
    {
      "cell_type": "markdown",
      "source": [
        "3.  Write a code to slice the first 3 characters from the string \"Python Programming\"."
      ],
      "metadata": {
        "id": "6L2ToNxSWj2J"
      }
    },
    {
      "cell_type": "code",
      "source": [
        "my_string = \"Python Programming\"\n",
        "print(f\"Original string: {my_string}\")\n",
        "print(f\"Sliced string: {sliced_string}\")\n",
        "sliced_string_short = my_string[:3]\n",
        "print(f\"Sliced string (shorthand): {sliced_string_short}\")"
      ],
      "metadata": {
        "colab": {
          "base_uri": "https://localhost:8080/"
        },
        "id": "BUj7Wvc_Xu84",
        "outputId": "75f934b4-c1f7-4114-b970-1fd4f5241be5"
      },
      "execution_count": null,
      "outputs": [
        {
          "output_type": "stream",
          "name": "stdout",
          "text": [
            "Original string: Python Programming\n",
            "Sliced string: Pyt\n",
            "Sliced string (shorthand): Pyt\n"
          ]
        }
      ]
    },
    {
      "cell_type": "markdown",
      "source": [
        "4.  Write a code to convert the string \"hello\" to uppercase."
      ],
      "metadata": {
        "id": "rnrqATAKX__j"
      }
    },
    {
      "cell_type": "code",
      "source": [
        "original_string = \"hello\"\n",
        "uppercase_string = original_string.upper()\n",
        "print(f\"Original string: {original_string}\")\n",
        "print(f\"Uppercase string: {uppercase_string}\")"
      ],
      "metadata": {
        "colab": {
          "base_uri": "https://localhost:8080/"
        },
        "id": "MX1hLpK4YDIV",
        "outputId": "0f1674e1-56c6-4cf2-b2b2-e0b702405449"
      },
      "execution_count": null,
      "outputs": [
        {
          "output_type": "stream",
          "name": "stdout",
          "text": [
            "Original string: hello\n",
            "Uppercase string: HELLO\n"
          ]
        }
      ]
    },
    {
      "cell_type": "markdown",
      "source": [
        "5.  Write a code to replace the word \"apple\" with \"orange\" in the string \"I like apple\"."
      ],
      "metadata": {
        "id": "LfN3rBeMYsCL"
      }
    },
    {
      "cell_type": "code",
      "source": [
        "original_string = \"I like apple\"\n",
        "new_string = original_string.replace(\"apple\", \"orange\")\n",
        "print(new_string)"
      ],
      "metadata": {
        "colab": {
          "base_uri": "https://localhost:8080/"
        },
        "id": "2cQJXP_1Ywgv",
        "outputId": "3080ff08-2dbd-479b-b322-eea5d6733b67"
      },
      "execution_count": null,
      "outputs": [
        {
          "output_type": "stream",
          "name": "stdout",
          "text": [
            "I like orange\n"
          ]
        }
      ]
    },
    {
      "cell_type": "markdown",
      "source": [
        "6.  Write a code to create a list with numbers 1 to 5 and print it."
      ],
      "metadata": {
        "id": "HhpsHsbkZH3z"
      }
    },
    {
      "cell_type": "code",
      "source": [
        "my_list = [1, 2, 3, 4, 5]\n",
        "print(my_list)"
      ],
      "metadata": {
        "colab": {
          "base_uri": "https://localhost:8080/"
        },
        "id": "WOuFjMeIZLpK",
        "outputId": "45038bce-6e26-45fc-c709-6ef47e6e4d08"
      },
      "execution_count": null,
      "outputs": [
        {
          "output_type": "stream",
          "name": "stdout",
          "text": [
            "[1, 2, 3, 4, 5]\n"
          ]
        }
      ]
    },
    {
      "cell_type": "markdown",
      "source": [
        "7. Write a code to append the number 10 to the list [1, 2, 3, 4]."
      ],
      "metadata": {
        "id": "AuPWiVkxZijH"
      }
    },
    {
      "cell_type": "code",
      "source": [
        "my_list = [1, 2, 3, 4]\n",
        "print(f\"Original list: {my_list}\")\n",
        "my_list.append(10)\n",
        "print(f\"List after appending 10: {my_list}\")"
      ],
      "metadata": {
        "colab": {
          "base_uri": "https://localhost:8080/"
        },
        "id": "PV9YlujdZoiS",
        "outputId": "83d2dff0-6670-4d0e-e185-66c008d58232"
      },
      "execution_count": null,
      "outputs": [
        {
          "output_type": "stream",
          "name": "stdout",
          "text": [
            "Original list: [1, 2, 3, 4]\n",
            "List after appending 10: [1, 2, 3, 4, 10]\n"
          ]
        }
      ]
    },
    {
      "cell_type": "markdown",
      "source": [
        "8. Write a code to remove the number 3 from the list [1, 2, 3, 4, 5]."
      ],
      "metadata": {
        "id": "iruISE5rZ-m0"
      }
    },
    {
      "cell_type": "code",
      "source": [
        "numbers = [1, 2, 3, 4, 5]\n",
        "print(f\"Original list: {numbers}\")\n",
        "try:\n",
        "    numbers.remove(3)\n",
        "    print(f\"List after removing 3: {numbers}\")\n",
        "except ValueError:\n",
        "  print(\"The item you tried to remove was not found in the list.\")\n",
        "numbers_all = [1, 2, 3, 4, 3, 5]\n",
        "print(f\"\\nOriginal list with duplicates: {numbers_all}\")\n",
        "numbers_filtered = [num for num in numbers_all if num != 3]\n",
        "print(f\"New list after removing all 3s: {numbers_filtered}\")"
      ],
      "metadata": {
        "colab": {
          "base_uri": "https://localhost:8080/"
        },
        "id": "BOJGZ-IPaEDw",
        "outputId": "b5a1b47c-b839-4c1e-ecd9-4bc33c3d284d"
      },
      "execution_count": null,
      "outputs": [
        {
          "output_type": "stream",
          "name": "stdout",
          "text": [
            "Original list: [1, 2, 3, 4, 5]\n",
            "List after removing 3: [1, 2, 4, 5]\n",
            "\n",
            "Original list with duplicates: [1, 2, 3, 4, 3, 5]\n",
            "New list after removing all 3s: [1, 2, 4, 5]\n"
          ]
        }
      ]
    },
    {
      "cell_type": "markdown",
      "source": [
        "9. Write a code to access the second element in the list ['a', 'b', 'c', 'd']."
      ],
      "metadata": {
        "id": "s_VUfMYGdFBh"
      }
    },
    {
      "cell_type": "code",
      "source": [
        "my_list = ['a', 'b', 'c', 'd']\n",
        "second_element = my_list[1]\n",
        "print(second_element)"
      ],
      "metadata": {
        "colab": {
          "base_uri": "https://localhost:8080/"
        },
        "id": "lI_d-ZhQdH0U",
        "outputId": "9dc97135-a715-42a8-e427-5cee32bb449d"
      },
      "execution_count": null,
      "outputs": [
        {
          "output_type": "stream",
          "name": "stdout",
          "text": [
            "b\n"
          ]
        }
      ]
    },
    {
      "cell_type": "markdown",
      "source": [
        "10. Write a code to reverse the list [10, 20, 30, 40, 50]."
      ],
      "metadata": {
        "id": "wDFkIkJ4da1o"
      }
    },
    {
      "cell_type": "code",
      "source": [
        "my_list = [10, 20, 30, 40, 50]\n",
        "print(\"Original list:\", my_list)\n",
        "my_list.reverse()\n",
        "print(\"List after using reverse():\", my_list)\n",
        "my_list = [10, 20, 30, 40, 50]\n",
        "reversed_list = my_list[::-1]\n",
        "print(\"New reversed list using slicing:\", reversed_list)\n",
        "print(\"Original list after slicing:\", my_list)"
      ],
      "metadata": {
        "colab": {
          "base_uri": "https://localhost:8080/"
        },
        "id": "7N7ibgAWdhLH",
        "outputId": "10fe4fcf-e34b-46fa-9bde-c80bb653b0d0"
      },
      "execution_count": null,
      "outputs": [
        {
          "output_type": "stream",
          "name": "stdout",
          "text": [
            "Original list: [10, 20, 30, 40, 50]\n",
            "List after using reverse(): [50, 40, 30, 20, 10]\n",
            "New reversed list using slicing: [50, 40, 30, 20, 10]\n",
            "Original list after slicing: [10, 20, 30, 40, 50]\n"
          ]
        }
      ]
    },
    {
      "cell_type": "markdown",
      "source": [
        "11. Write a code to create a tuple with the elements 100, 200, 300 and print it."
      ],
      "metadata": {
        "id": "v1W5x1B6eF-q"
      }
    },
    {
      "cell_type": "code",
      "source": [
        "my_tuple = (100, 200, 300)\n",
        "print(my_tuple)\n",
        "print(f\"The type of my_tuple is: {type(my_tuple)}\")"
      ],
      "metadata": {
        "colab": {
          "base_uri": "https://localhost:8080/"
        },
        "id": "97VQ0DT-eJtP",
        "outputId": "c96f1a92-171f-4e45-cf90-7e7c17b56644"
      },
      "execution_count": null,
      "outputs": [
        {
          "output_type": "stream",
          "name": "stdout",
          "text": [
            "(100, 200, 300)\n",
            "The type of my_tuple is: <class 'tuple'>\n"
          ]
        }
      ]
    },
    {
      "cell_type": "markdown",
      "source": [
        "12. Write a code to access the second-to-last element of the tuple ('red', 'green', 'blue', 'yellow')."
      ],
      "metadata": {
        "id": "RPrghQ5reZ8H"
      }
    },
    {
      "cell_type": "code",
      "source": [
        "my_tuple = ('red', 'green', 'blue', 'yellow')\n",
        "second_to_last_element = my_tuple[-2]\n",
        "print(second_to_last_element)"
      ],
      "metadata": {
        "colab": {
          "base_uri": "https://localhost:8080/"
        },
        "id": "-FluVXcuedA8",
        "outputId": "d28006ac-db7e-42bb-8971-9e70e04bc014"
      },
      "execution_count": null,
      "outputs": [
        {
          "output_type": "stream",
          "name": "stdout",
          "text": [
            "blue\n"
          ]
        }
      ]
    },
    {
      "cell_type": "markdown",
      "source": [
        "13. Write a code to find the minimum number in the tuple (10, 20, 5, 15)."
      ],
      "metadata": {
        "id": "2bBuX7MLewMZ"
      }
    },
    {
      "cell_type": "code",
      "source": [
        "numbers_tuple = (10, 20, 5, 15)\n",
        "minimum_number = min(numbers_tuple)\n",
        "print(f\"The given tuple is: {numbers_tuple}\")\n",
        "print(f\"The minimum number in the tuple is: {minimum_number}\")"
      ],
      "metadata": {
        "colab": {
          "base_uri": "https://localhost:8080/"
        },
        "id": "uinhQGG1eznp",
        "outputId": "57166dfc-e6bf-47de-f861-883e2029766c"
      },
      "execution_count": null,
      "outputs": [
        {
          "output_type": "stream",
          "name": "stdout",
          "text": [
            "The given tuple is: (10, 20, 5, 15)\n",
            "The minimum number in the tuple is: 5\n"
          ]
        }
      ]
    },
    {
      "cell_type": "markdown",
      "source": [
        "14.  Write a code to find the index of the element \"cat\" in the tuple ('dog', 'cat', 'rabbit')."
      ],
      "metadata": {
        "id": "bvtfF2khfJd6"
      }
    },
    {
      "cell_type": "code",
      "source": [
        "my_tuple = ('dog', 'cat', 'rabbit')\n",
        "cat_index = my_tuple.index('cat')\n",
        "print(f\"The index of 'cat' is: {cat_index}\")\n",
        "print(f\"The index of 'cat' is: {('dog', 'cat', 'rabbit').index('cat')}\")"
      ],
      "metadata": {
        "colab": {
          "base_uri": "https://localhost:8080/"
        },
        "id": "Icra8VwOfMOT",
        "outputId": "f554d41e-872d-4df4-f98a-3a28649264fd"
      },
      "execution_count": null,
      "outputs": [
        {
          "output_type": "stream",
          "name": "stdout",
          "text": [
            "The index of 'cat' is: 1\n",
            "The index of 'cat' is: 1\n"
          ]
        }
      ]
    },
    {
      "cell_type": "markdown",
      "source": [
        "15. Write a code to create a tuple containing three different fruits and check if \"kiwi\" is in it."
      ],
      "metadata": {
        "id": "ehcBD-gHffPI"
      }
    },
    {
      "cell_type": "code",
      "source": [
        "fruits = (\"apple\", \"banana\", \"orange\")\n",
        "print(f\"The tuple of fruits is: {fruits}\")\n",
        "if \"kiwi\" in fruits:\n",
        "    print(\"Yes, 'kiwi' is in the tuple.\")\n",
        "else:\n",
        "    print(\"No, 'kiwi' is not in the tuple.\")\n"
      ],
      "metadata": {
        "colab": {
          "base_uri": "https://localhost:8080/"
        },
        "id": "YtwaHJdIfh-6",
        "outputId": "cae15dee-37c2-45d5-de7f-674eac1683a7"
      },
      "execution_count": null,
      "outputs": [
        {
          "output_type": "stream",
          "name": "stdout",
          "text": [
            "The tuple of fruits is: ('apple', 'banana', 'orange')\n",
            "No, 'kiwi' is not in the tuple.\n"
          ]
        }
      ]
    },
    {
      "cell_type": "markdown",
      "source": [
        "16. Write a code to create a set with the elements 'a', 'b', 'c' and print it."
      ],
      "metadata": {
        "id": "LuxkQXHyf7x0"
      }
    },
    {
      "cell_type": "code",
      "source": [
        "my_set = {'a', 'b', 'c'}\n",
        "print(\"The created set is:\")\n",
        "print(my_set)"
      ],
      "metadata": {
        "colab": {
          "base_uri": "https://localhost:8080/"
        },
        "id": "22ePwDm1f-9_",
        "outputId": "a02f0a37-2eb7-48b2-f5fe-4a4af3282de3"
      },
      "execution_count": null,
      "outputs": [
        {
          "output_type": "stream",
          "name": "stdout",
          "text": [
            "The created set is:\n",
            "{'a', 'b', 'c'}\n"
          ]
        }
      ]
    },
    {
      "cell_type": "markdown",
      "source": [
        "17. Write a code to clear all elements from the set {1, 2, 3, 4, 5}."
      ],
      "metadata": {
        "id": "b4FLGopYgJOh"
      }
    },
    {
      "cell_type": "code",
      "source": [
        "my_set = {1, 2, 3, 4, 5}\n",
        "print(\"Original set:\", my_set)\n",
        "my_set.clear()\n",
        "print(\"Set after clearing:\", my_set)"
      ],
      "metadata": {
        "colab": {
          "base_uri": "https://localhost:8080/"
        },
        "id": "-gkqj-B9gMcw",
        "outputId": "d3717653-b4c4-45e5-c478-c05006f7d56f"
      },
      "execution_count": null,
      "outputs": [
        {
          "output_type": "stream",
          "name": "stdout",
          "text": [
            "Original set: {1, 2, 3, 4, 5}\n",
            "Set after clearing: set()\n"
          ]
        }
      ]
    },
    {
      "cell_type": "markdown",
      "source": [
        "18.  Write a code to remove the element 4 from the set {1, 2, 3, 4}."
      ],
      "metadata": {
        "id": "IFtT1fjWgpX4"
      }
    },
    {
      "cell_type": "code",
      "source": [
        "def remove_element_from_set():\n",
        "    \"\"\"\n",
        "    Creates a set, removes a specific element, and prints the result.\n",
        "    \"\"\"\n",
        "    my_set = {1, 2, 3, 4}\n",
        "    print(f\"Original set: {my_set}\")\n",
        "    try:\n",
        "        my_set.remove(4)\n",
        "        print(f\"Set after removing 4: {my_set}\")\n",
        "    except KeyError:\n",
        "        print(\"The element 4 was not found in the set.\")\n",
        "remove_element_from_set()"
      ],
      "metadata": {
        "colab": {
          "base_uri": "https://localhost:8080/"
        },
        "id": "OXvhnLbTgwrp",
        "outputId": "08391f9f-2c60-4af4-c070-f017b161e298"
      },
      "execution_count": null,
      "outputs": [
        {
          "output_type": "stream",
          "name": "stdout",
          "text": [
            "Original set: {1, 2, 3, 4}\n",
            "Set after removing 4: {1, 2, 3}\n"
          ]
        }
      ]
    },
    {
      "cell_type": "markdown",
      "source": [
        "19.  Write a code to find the union of two sets {1, 2, 3} and {3, 4, 5}."
      ],
      "metadata": {
        "id": "0yIV79U2hDNl"
      }
    },
    {
      "cell_type": "code",
      "source": [
        "set1 = {1, 2, 3}\n",
        "set2 = {3, 4, 5}\n",
        "union_set_method = set1.union(set2)\n",
        "union_set_operator = set1 | set2\n",
        "print(f\"Set 1: {set1}\")\n",
        "print(f\"Set 2: {set2}\")\n",
        "print(f\"Union using .union(): {union_set_method}\")\n",
        "print(f\"Union using | operator: {union_set_operator}\")"
      ],
      "metadata": {
        "colab": {
          "base_uri": "https://localhost:8080/"
        },
        "id": "eYQrMdpRhGc3",
        "outputId": "eaa9c76d-b7d1-46ec-eb49-f79ba1de08b9"
      },
      "execution_count": null,
      "outputs": [
        {
          "output_type": "stream",
          "name": "stdout",
          "text": [
            "Set 1: {1, 2, 3}\n",
            "Set 2: {3, 4, 5}\n",
            "Union using .union(): {1, 2, 3, 4, 5}\n",
            "Union using | operator: {1, 2, 3, 4, 5}\n"
          ]
        }
      ]
    },
    {
      "cell_type": "markdown",
      "source": [
        "20.  Write a code to find the intersection of two sets {1, 2, 3} and {2, 3, 4}."
      ],
      "metadata": {
        "id": "X04w9YiMhc0N"
      }
    },
    {
      "cell_type": "code",
      "source": [
        "set1 = {1, 2, 3}\n",
        "set2 = {2, 3, 4}\n",
        "intersection_result = set1 & set2\n",
        "print(f\"Set 1: {set1}\")\n",
        "print(f\"Set 2: {set2}\")\n",
        "print(f\"The intersection of the two sets is: {intersection_result}\")"
      ],
      "metadata": {
        "colab": {
          "base_uri": "https://localhost:8080/"
        },
        "id": "9FThk3vYhgfW",
        "outputId": "24cff74a-4398-4af4-91a2-ba544619efed"
      },
      "execution_count": null,
      "outputs": [
        {
          "output_type": "stream",
          "name": "stdout",
          "text": [
            "Set 1: {1, 2, 3}\n",
            "Set 2: {2, 3, 4}\n",
            "The intersection of the two sets is: {2, 3}\n"
          ]
        }
      ]
    },
    {
      "cell_type": "markdown",
      "source": [
        "21. Write a code to create a dictionary with the keys \"name\", \"age\", and \"city\", and print it."
      ],
      "metadata": {
        "id": "iYKNIOiNhulB"
      }
    },
    {
      "cell_type": "code",
      "source": [
        "person_details = {\n",
        "    \"name\": \"Vaishnavi\",\n",
        "    \"age\": 23,\n",
        "    \"city\": \"Pune\"\n",
        "}\n",
        "print(person_details)"
      ],
      "metadata": {
        "colab": {
          "base_uri": "https://localhost:8080/"
        },
        "id": "Cm4ZolsMhxhQ",
        "outputId": "f5783f3a-006a-47d5-deb1-0cbd2b975044"
      },
      "execution_count": null,
      "outputs": [
        {
          "output_type": "stream",
          "name": "stdout",
          "text": [
            "{'name': 'Vaishnavi', 'age': 23, 'city': 'Pune'}\n"
          ]
        }
      ]
    },
    {
      "cell_type": "markdown",
      "source": [
        "22. Write a code to add a new key-value pair \"country\": \"USA\" to the dictionary {'name': 'John', 'age': 25}."
      ],
      "metadata": {
        "id": "2QEC7g_tiLNl"
      }
    },
    {
      "cell_type": "code",
      "source": [
        "my_dict = {'name': 'John', 'age': 25}\n",
        "my_dict['country'] = 'USA'\n",
        "print(my_dict)"
      ],
      "metadata": {
        "colab": {
          "base_uri": "https://localhost:8080/"
        },
        "id": "ddB3eScsiT8d",
        "outputId": "279390aa-c24e-4ac8-b5ff-92fb80bbc757"
      },
      "execution_count": null,
      "outputs": [
        {
          "output_type": "stream",
          "name": "stdout",
          "text": [
            "{'name': 'John', 'age': 25, 'country': 'USA'}\n"
          ]
        }
      ]
    },
    {
      "cell_type": "markdown",
      "source": [
        "23. Write a code to access the value associated with the key \"name\" in the dictionary {'name': 'Alice', 'age': 30}."
      ],
      "metadata": {
        "id": "PlUdpQrGiaup"
      }
    },
    {
      "cell_type": "code",
      "source": [
        "my_dict = {'name': 'Alice', 'age': 30}\n",
        "name_value = my_dict['name']\n",
        "print(name_value)"
      ],
      "metadata": {
        "colab": {
          "base_uri": "https://localhost:8080/"
        },
        "id": "KY6K8Xpiib5Y",
        "outputId": "ff1d63b1-0e31-48be-922d-050d42855178"
      },
      "execution_count": null,
      "outputs": [
        {
          "output_type": "stream",
          "name": "stdout",
          "text": [
            "Alice\n"
          ]
        }
      ]
    },
    {
      "cell_type": "markdown",
      "source": [
        "24. Write a code to remove the key \"age\" from the dictionary {'name': 'Bob', 'age': 22, 'city': 'New York'}."
      ],
      "metadata": {
        "id": "zuk9yBriihp3"
      }
    },
    {
      "cell_type": "code",
      "source": [
        "person_dict = {'name': 'Bob', 'age': 22, 'city': 'New York'}\n",
        "removed_age = person_dict.pop('age')\n",
        "print(person_dict)"
      ],
      "metadata": {
        "colab": {
          "base_uri": "https://localhost:8080/"
        },
        "id": "LNkfAbd0jgXU",
        "outputId": "b7415f91-c7e5-4cb0-b8d6-3de68dc00c1d"
      },
      "execution_count": null,
      "outputs": [
        {
          "output_type": "stream",
          "name": "stdout",
          "text": [
            "{'name': 'Bob', 'city': 'New York'}\n"
          ]
        }
      ]
    },
    {
      "cell_type": "markdown",
      "source": [
        "25. Write a code to check if the key \"city\" exists in the dictionary {'name': 'Alice', 'city': 'Paris'}."
      ],
      "metadata": {
        "id": "O3G4YEiFjl3s"
      }
    },
    {
      "cell_type": "code",
      "source": [
        "user_data = {'name': 'Alice', 'city': 'Paris'}\n",
        "key_to_check = 'city'\n",
        "if key_to_check in user_data:\n",
        "    print(f\"The key '{key_to_check}' exists in the dictionary.\")\n",
        "else:\n",
        "    print(f\"The key '{key_to_check}' does not exist in the dictionary.\")\n",
        "    print(\"-\" * 30)"
      ],
      "metadata": {
        "colab": {
          "base_uri": "https://localhost:8080/"
        },
        "id": "04WfE9IQjssr",
        "outputId": "a1939446-3f50-4781-d21b-915ede430ae5"
      },
      "execution_count": null,
      "outputs": [
        {
          "output_type": "stream",
          "name": "stdout",
          "text": [
            "The key 'city' exists in the dictionary.\n"
          ]
        }
      ]
    },
    {
      "cell_type": "markdown",
      "source": [
        "26. Write a code to create a list, a tuple, and a dictionary, and print them all."
      ],
      "metadata": {
        "id": "8sjMLZHskRmh"
      }
    },
    {
      "cell_type": "code",
      "source": [
        "my_list = [1, 2, 'hello', 4.5]\n",
        "my_tuple = (10, 'world', 200)\n",
        "my_dict = {'name': 'Alice', 'age': 30, 'city': 'New York'}\n",
        "print(\"List:\", my_list)\n",
        "print(\"Tuple:\", my_tuple)\n",
        "print(\"Dictionary:\", my_dict)"
      ],
      "metadata": {
        "colab": {
          "base_uri": "https://localhost:8080/"
        },
        "id": "Rg_INQjGkVSI",
        "outputId": "2b229156-960a-4362-d007-f46fb72b25cf"
      },
      "execution_count": null,
      "outputs": [
        {
          "output_type": "stream",
          "name": "stdout",
          "text": [
            "List: [1, 2, 'hello', 4.5]\n",
            "Tuple: (10, 'world', 200)\n",
            "Dictionary: {'name': 'Alice', 'age': 30, 'city': 'New York'}\n"
          ]
        }
      ]
    },
    {
      "cell_type": "markdown",
      "source": [
        "27. Write a code to create a list of 5 random numbers between 1 and 100, sort it in ascending order, and print the result.(replaced)"
      ],
      "metadata": {
        "id": "1pS0JEm4ku6Z"
      }
    },
    {
      "cell_type": "code",
      "source": [
        "import random\n",
        "random_numbers = [random.randint(1, 100) for _ in range(9)]\n",
        "random_numbers.sort()\n",
        "print(random_numbers)"
      ],
      "metadata": {
        "colab": {
          "base_uri": "https://localhost:8080/"
        },
        "id": "IAGwX5x7k56k",
        "outputId": "cb6ae782-f3aa-4510-f2d5-69140f4ff357"
      },
      "execution_count": null,
      "outputs": [
        {
          "output_type": "stream",
          "name": "stdout",
          "text": [
            "[3, 8, 9, 15, 24, 27, 27, 72, 86]\n"
          ]
        }
      ]
    },
    {
      "cell_type": "markdown",
      "source": [
        "28.  Write a code to create a list with strings and print the element at the third index."
      ],
      "metadata": {
        "id": "llCq57n3ldxb"
      }
    },
    {
      "cell_type": "code",
      "source": [
        "my_list = [\"apple\", \"banana\", \"cherry\", \"date\", \"elderberry\"]\n",
        "print(my_list[3])"
      ],
      "metadata": {
        "colab": {
          "base_uri": "https://localhost:8080/"
        },
        "id": "88oipAx9lg24",
        "outputId": "edd4b6dd-2dfe-4ab7-9572-0f90e74e847a"
      },
      "execution_count": null,
      "outputs": [
        {
          "output_type": "stream",
          "name": "stdout",
          "text": [
            "date\n"
          ]
        }
      ]
    },
    {
      "cell_type": "markdown",
      "source": [
        "29. Write a code to combine two dictionaries into one and print the result."
      ],
      "metadata": {
        "id": "0azFx2Rulp8J"
      }
    },
    {
      "cell_type": "code",
      "source": [
        "dict1 = {'name': 'Pranav', 'age': 24}\n",
        "dict2 = {'city': 'Mumbai', 'occupation': 'Doctor'}\n",
        "combined_dict = {**dict1, **dict2}\n",
        "print(\"Combined Dictionary:\")\n",
        "print(combined_dict)\n",
        "print(\"\\nUsing the update() method:\")\n",
        "dict1.update(dict2)\n",
        "print(dict1)"
      ],
      "metadata": {
        "colab": {
          "base_uri": "https://localhost:8080/"
        },
        "id": "llvDS65fls3l",
        "outputId": "449df9d8-a82c-4da1-d55d-45d078857e8e"
      },
      "execution_count": null,
      "outputs": [
        {
          "output_type": "stream",
          "name": "stdout",
          "text": [
            "Combined Dictionary:\n",
            "{'name': 'Pranav', 'age': 24, 'city': 'Mumbai', 'occupation': 'Doctor'}\n",
            "\n",
            "Using the update() method:\n",
            "{'name': 'Pranav', 'age': 24, 'city': 'Mumbai', 'occupation': 'Doctor'}\n"
          ]
        }
      ]
    },
    {
      "cell_type": "markdown",
      "source": [
        "30.  Write a code to convert a list of strings into a set."
      ],
      "metadata": {
        "id": "v_R-nZtrm47T"
      }
    },
    {
      "cell_type": "code",
      "source": [
        "my_list = [\"apple\", \"banana\", \"cherry\", \"apple\", \"grape\", \"banana\"]\n",
        "my_set = set(my_list)\n",
        "print(\"Original list:\", my_list)\n",
        "print(\"Converted set:\", my_set)"
      ],
      "metadata": {
        "colab": {
          "base_uri": "https://localhost:8080/"
        },
        "id": "JtqaDWu1m7dh",
        "outputId": "5060f9e5-7e9b-4e97-b378-ba2c999a969a"
      },
      "execution_count": null,
      "outputs": [
        {
          "output_type": "stream",
          "name": "stdout",
          "text": [
            "Original list: ['apple', 'banana', 'cherry', 'apple', 'grape', 'banana']\n",
            "Converted set: {'cherry', 'grape', 'apple', 'banana'}\n"
          ]
        }
      ]
    }
  ]
}